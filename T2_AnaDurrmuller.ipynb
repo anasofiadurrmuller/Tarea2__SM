{
 "cells": [
  {
   "cell_type": "markdown",
   "metadata": {},
   "source": [
    "**Resumen Python: 7 Important Reasons Why You Should Use Python**\n",
    "\n",
    "Código legible y mantenible\n",
    "\n",
    "Las reglas de sintaxis de Python le permiten expresar conceptos sin \n",
    "escribir código adicional. Al mismo tiempo, Python, a diferencia de otros \n",
    "lenguajes de programación, enfatiza la legibilidad del código y le permite usar \n",
    "palabras clave en inglés en lugar de signos de puntuación. Por lo tanto, puede usar \n",
    "Python para crear aplicaciones personalizadas sin escribir código adicional.\n",
    "\n",
    "Múltiples paradigmas de programación\n",
    "\n",
    "Al igual que otros lenguajes de programación modernos, Python también admite varios paradigmas de programación. Al mismo tiempo, Python también cuenta con un sistema de tipo dinámico y administración automática de memoria. Los paradigmas de programación y las características del lenguaje lo ayudan a usar Python para desarrollar aplicaciones de software grandes y complejas.\n",
    "\n",
    "Compatible con las principales plataformas y sistemas\n",
    "\n",
    "En la actualidad, Python es compatible con muchos sistemas operativos. Incluso puede usar intérpretes de Python para ejecutar el código en plataformas y herramientas específicas. Además, Python es un lenguaje de programación interpretado. La función le facilita realizar cambios en el código sin aumentar el tiempo de desarrollo."
   ]
  }
 ],
 "metadata": {
  "kernelspec": {
   "display_name": "Python 3",
   "language": "python",
   "name": "python3"
  },
  "language_info": {
   "codemirror_mode": {
    "name": "ipython",
    "version": 3
   },
   "file_extension": ".py",
   "mimetype": "text/x-python",
   "name": "python",
   "nbconvert_exporter": "python",
   "pygments_lexer": "ipython3",
   "version": "3.7.4"
  }
 },
 "nbformat": 4,
 "nbformat_minor": 2
}
