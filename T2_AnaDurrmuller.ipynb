{
 "cells": [
  {
   "cell_type": "markdown",
   "metadata": {},
   "source": [
    "**Resumen Python: 7 Important Reasons Why You Should Use Python**\n",
    "\n",
    "Código legible y mantenible\n",
    "\n",
    "Las reglas de sintaxis de Python le permiten expresar conceptos sin \n",
    "escribir código adicional. Al mismo tiempo, Python, a diferencia de otros \n",
    "lenguajes de programación, enfatiza la legibilidad del código y le permite usar \n",
    "palabras clave en inglés en lugar de signos de puntuación. Por lo tanto, puede usar \n",
    "Python para crear aplicaciones personalizadas sin escribir código adicional.\n",
    "\n",
    "Múltiples paradigmas de programación\n",
    "\n",
    "Al igual que otros lenguajes de programación modernos, Python también admite varios paradigmas de programación. Al mismo tiempo, Python también cuenta con un sistema de tipo dinámico y administración automática de memoria. Los paradigmas de programación y las características del lenguaje lo ayudan a usar Python para desarrollar aplicaciones de software grandes y complejas.\n",
    "\n",
    "Compatible con las principales plataformas y sistemas\n",
    "\n",
    "En la actualidad, Python es compatible con muchos sistemas operativos. Incluso puede usar intérpretes de Python para ejecutar el código en plataformas y herramientas específicas. Además, Python es un lenguaje de programación interpretado. La función le facilita realizar cambios en el código sin aumentar el tiempo de desarrollo.\n",
    "\n",
    "**5 REASONS YOU SHOULD LEARN PYTHON NOW**\n",
    "\n",
    "Python es fácil de usar, potente y versátil, lo que lo convierte en una gran elección tanto para principiantes como para expertos. La legibilidad de Python lo convierte en un gran primer lenguaje de programación - te permite pensar como un programador y no perder el tiempo con una sintaxis confusa. Por ejemplo, mira el siguiente código para imprimir «hola mundo» en Java y Python. La configuración mínima es otra de las ventajas de Python. \n",
    "Python es increíblemente poderoso - hay una razón por la que compañías como Google, Dropbox, Spotify y Netflix lo usan. El cliente de escritorio de Dropbox está escrito completamente en Python, lo que habla de su compatibilidad multiplataforma. Además de su cliente de escritorio, el código del lado del servidor de Dropbox está en Python también, lo que lo convierte en el lenguaje más utilizado en la empresa. Google utiliza una mezcla de lenguajes, con C++ y Python. \n",
    "Utilizan mucho Python e iPython en su grupo de análisis en tiempo real. Si se echa un vistazo a estas empresas, se puede ver que se benefician de Python por su facilidad de uso y porque es genial para la creación rápida de prototipos y la iteración. También puedes ver que Python se puede utilizar para una amplia variedad de aplicaciones, y a medida que aprendas los fundamentos de Python, podrás crear casi cualquier cosa que desees. Muchos grandes desarrolladores contribuyen diariamente a la comunidad de Python creando bibliotecas de Python.\n"
   ]
  }
 ],
 "metadata": {
  "kernelspec": {
   "display_name": "Python 3",
   "language": "python",
   "name": "python3"
  },
  "language_info": {
   "codemirror_mode": {
    "name": "ipython",
    "version": 3
   },
   "file_extension": ".py",
   "mimetype": "text/x-python",
   "name": "python",
   "nbconvert_exporter": "python",
   "pygments_lexer": "ipython3",
   "version": "3.7.4"
  }
 },
 "nbformat": 4,
 "nbformat_minor": 2
}
